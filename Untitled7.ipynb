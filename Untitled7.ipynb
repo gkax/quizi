{
  "nbformat": 4,
  "nbformat_minor": 0,
  "metadata": {
    "colab": {
      "provenance": []
    },
    "kernelspec": {
      "name": "python3",
      "display_name": "Python 3"
    },
    "language_info": {
      "name": "python"
    }
  },
  "cells": [
    {
      "cell_type": "code",
      "execution_count": 1,
      "metadata": {
        "id": "bKJ3OI_z56gg"
      },
      "outputs": [],
      "source": [
        "import pandas as pd\n",
        "import numpy as np\n",
        "from sklearn.model_selection import train_test_split\n",
        "from sklearn.linear_model import LinearRegression, LogisticRegression\n",
        "from sklearn.metrics import mean_squared_error, accuracy_score, confusion_matrix\n",
        "from sklearn.tree import DecisionTreeRegressor, DecisionTreeClassifier\n",
        "\n",
        "# მონაცემების ჩატვირთვა Kaggle-დან\n",
        "# ვიყინებ მონაცემთა ბაზა 'housing.csv'\n",
        "df = pd.read_csv('/content/drive/MyDrive/housing.csv')\n"
      ]
    },
    {
      "cell_type": "code",
      "source": [
        "# მონაცემების განყოფა\n",
        "X = df[['median_income']]\n",
        "y = df['median_house_value']\n",
        "X_train, X_test, y_train, y_test = train_test_split(X, y, test_size=0.2, random_state=42)\n",
        "\n",
        "# მოდელის აგება\n",
        "linear_model = LinearRegression()\n",
        "linear_model.fit(X_train, y_train)\n",
        "\n",
        "# პროგნოზი\n",
        "y_pred = linear_model.predict(X_test)\n",
        "\n",
        "# მოდელის ეფექტურობის გამოთვლა\n",
        "mse = mean_squared_error(y_test, y_pred)\n",
        "print(\"Simple Linear Regression MSE:\", mse)\n"
      ],
      "metadata": {
        "colab": {
          "base_uri": "https://localhost:8080/"
        },
        "id": "9jhKc21p7azL",
        "outputId": "355570e2-9296-45c7-d7ac-9e0c2aa6044d"
      },
      "execution_count": 2,
      "outputs": [
        {
          "output_type": "stream",
          "name": "stdout",
          "text": [
            "Simple Linear Regression MSE: 7091157771.76555\n"
          ]
        }
      ]
    },
    {
      "cell_type": "code",
      "source": [
        "# მონაცემების განყოფა\n",
        "X = df[['median_income', 'total_rooms', 'housing_median_age']]\n",
        "y = df['median_house_value']\n",
        "X_train, X_test, y_train, y_test = train_test_split(X, y, test_size=0.2, random_state=42)\n",
        "\n",
        "# მოდელის აგება\n",
        "multiple_linear_model = LinearRegression()\n",
        "multiple_linear_model.fit(X_train, y_train)\n",
        "\n",
        "# პროგნოზი\n",
        "y_pred = multiple_linear_model.predict(X_test)\n",
        "\n",
        "# მოდელის ეფექტურობის გამოთვლა\n",
        "mse = mean_squared_error(y_test, y_pred)\n",
        "print(\"Multiple Linear Regression MSE:\", mse)\n"
      ],
      "metadata": {
        "colab": {
          "base_uri": "https://localhost:8080/"
        },
        "id": "WBIOW-xp7fJX",
        "outputId": "f104704b-3587-460e-b0d4-3398745136b5"
      },
      "execution_count": 3,
      "outputs": [
        {
          "output_type": "stream",
          "name": "stdout",
          "text": [
            "Multiple Linear Regression MSE: 6563178660.010065\n"
          ]
        }
      ]
    },
    {
      "cell_type": "code",
      "source": [
        "# მონაცემების განყოფა\n",
        "X = df[['median_income', 'total_rooms', 'housing_median_age']]\n",
        "y = df['median_house_value']\n",
        "X_train, X_test, y_train, y_test = train_test_split(X, y, test_size=0.2, random_state=42)\n",
        "\n",
        "# მოდელის აგება\n",
        "tree_regressor = DecisionTreeRegressor(random_state=42)\n",
        "tree_regressor.fit(X_train, y_train)\n",
        "\n",
        "# პროგნოზი\n",
        "y_pred = tree_regressor.predict(X_test)\n",
        "\n",
        "# მოდელის ეფექტურობის გამოთვლა\n",
        "mse = mean_squared_error(y_test, y_pred)\n",
        "print(\"Decision Tree Regression MSE:\", mse)\n"
      ],
      "metadata": {
        "colab": {
          "base_uri": "https://localhost:8080/"
        },
        "id": "rX-l85197m3m",
        "outputId": "58a6c887-7e21-4ddd-b674-b6fb90641342"
      },
      "execution_count": 4,
      "outputs": [
        {
          "output_type": "stream",
          "name": "stdout",
          "text": [
            "Decision Tree Regression MSE: 12043178365.61628\n"
          ]
        }
      ]
    },
    {
      "cell_type": "code",
      "source": [
        "\n",
        "# ლოგისტიკური რეგრესიის მოდელი (Logistic Regression)\n",
        "\n",
        "from sklearn.linear_model import LogisticRegression\n",
        "from sklearn.metrics import accuracy_score, confusion_matrix\n",
        "\n",
        "# მონაცემთა ჩატვირთვა\n",
        "emails_data = pd.read_csv('/content/drive/MyDrive/emails.csv')\n",
        "\n",
        "# ცვლადების გამოყოფა\n",
        "X = emails_data.drop(columns=['Email No.', 'Prediction'])\n",
        "y = emails_data['Prediction']\n",
        "\n",
        "# მონაცემთა გაყოფა სასწავლო და ტესტ ჯგუფებად\n",
        "X_train, X_test, y_train, y_test = train_test_split(X, y, test_size=0.2, random_state=42)\n",
        "\n",
        "# მოდელის შექმნა და გაწვრთნა\n",
        "model = LogisticRegression(max_iter=1000)\n",
        "model.fit(X_train, y_train)\n",
        "\n",
        "# პროგნოზი და შედეგების ანალიზი\n",
        "y_pred = model.predict(X_test)\n",
        "accuracy = accuracy_score(y_test, y_pred)\n",
        "conf_matrix = confusion_matrix(y_test, y_pred)\n",
        "\n",
        "print(f'Accuracy: {accuracy}')\n",
        "print(f'Confusion Matrix:\\n{conf_matrix}')\n",
        "\n"
      ],
      "metadata": {
        "colab": {
          "base_uri": "https://localhost:8080/"
        },
        "id": "qNRoMgfm7rSp",
        "outputId": "0aa90763-7ff0-4eae-d998-75bef5dccd44"
      },
      "execution_count": 8,
      "outputs": [
        {
          "output_type": "stream",
          "name": "stdout",
          "text": [
            "Accuracy: 0.9719806763285024\n",
            "Confusion Matrix:\n",
            "[[722  17]\n",
            " [ 12 284]]\n"
          ]
        }
      ]
    },
    {
      "cell_type": "code",
      "source": [
        "# გადაწყვეტილების ხის კლასიფიკაციის მოდელი (Decision Tree Classification)\n",
        "\n",
        "from sklearn.tree import DecisionTreeClassifier\n",
        "from sklearn.metrics import accuracy_score, confusion_matrix\n",
        "\n",
        "# ცვლადების გამოყოფა\n",
        "X = emails_data.drop(columns=['Email No.', 'Prediction'])\n",
        "y = emails_data['Prediction']\n",
        "\n",
        "# მონაცემთა გაყოფა სასწავლო და ტესტ ჯგუფებად\n",
        "X_train, X_test, y_train, y_test = train_test_split(X, y, test_size=0.2, random_state=42)\n",
        "\n",
        "# მოდელის შექმნა და გაწვრთნა\n",
        "model = DecisionTreeClassifier(random_state=42)\n",
        "model.fit(X_train, y_train)\n",
        "\n",
        "# პროგნოზი და შედეგების ანალიზი\n",
        "y_pred = model.predict(X_test)\n",
        "accuracy = accuracy_score(y_test, y_pred)\n",
        "conf_matrix = confusion_matrix(y_test, y_pred)\n",
        "\n",
        "print(f'Accuracy: {accuracy}')\n",
        "print(f'Confusion Matrix:\\n{conf_matrix}')\n"
      ],
      "metadata": {
        "colab": {
          "base_uri": "https://localhost:8080/"
        },
        "id": "gab4rub27xXZ",
        "outputId": "1efb6233-721a-491b-997d-f8220c488550"
      },
      "execution_count": 9,
      "outputs": [
        {
          "output_type": "stream",
          "name": "stdout",
          "text": [
            "Accuracy: 0.9227053140096618\n",
            "Confusion Matrix:\n",
            "[[698  41]\n",
            " [ 39 257]]\n"
          ]
        }
      ]
    },
    {
      "cell_type": "code",
      "source": [],
      "metadata": {
        "id": "iti5fOlj-HQY"
      },
      "execution_count": null,
      "outputs": []
    }
  ]
}